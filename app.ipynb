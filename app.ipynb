{
 "cells": [
  {
   "cell_type": "code",
   "execution_count": 2,
   "metadata": {},
   "outputs": [],
   "source": [
    "import os\n",
    "import tensorflow as tf\n",
    "from tensorflow.keras.preprocessing.image import ImageDataGenerator\n",
    "from tensorflow.keras.models import Sequential\n",
    "from tensorflow.keras.layers import Conv2D, MaxPooling2D, Flatten, Dense\n",
    "from tensorflow.keras.callbacks import EarlyStopping"
   ]
  },
  {
   "cell_type": "code",
   "execution_count": 3,
   "metadata": {},
   "outputs": [],
   "source": [
    "# Defining base directory containing the 'filtered_images' folder\n",
    "base_dir = 'C:/Users/Satwik/Desktop/Diab_Ret'"
   ]
  },
  {
   "cell_type": "code",
   "execution_count": 4,
   "metadata": {},
   "outputs": [],
   "source": [
    "# Image size and batch size\n",
    "img_size = (224, 224)\n",
    "batch_size = 32"
   ]
  },
  {
   "cell_type": "code",
   "execution_count": 5,
   "metadata": {},
   "outputs": [],
   "source": [
    "# Data augmentation and preprocessing\n",
    "train_datagen = ImageDataGenerator(\n",
    "    rescale=1./255,\n",
    "    rotation_range=20,\n",
    "    width_shift_range=0.2,\n",
    "    height_shift_range=0.2,\n",
    "    shear_range=0.2,\n",
    "    zoom_range=0.2,\n",
    "    horizontal_flip=True,\n",
    "    validation_split=0.2  # Splitting the data into 80% train and 20% validation\n",
    ")"
   ]
  },
  {
   "cell_type": "code",
   "execution_count": 6,
   "metadata": {},
   "outputs": [
    {
     "name": "stdout",
     "output_type": "stream",
     "text": [
      "Found 2931 images belonging to 5 classes.\n"
     ]
    }
   ],
   "source": [
    "# Generating train and validation data generators\n",
    "train_generator = train_datagen.flow_from_directory(\n",
    "    os.path.join(base_dir,'filtered_images'),\n",
    "    target_size=img_size,\n",
    "    batch_size=batch_size,\n",
    "    class_mode='categorical',\n",
    "    subset='training'  # Use training subset for training data\n",
    ")"
   ]
  },
  {
   "cell_type": "code",
   "execution_count": 7,
   "metadata": {},
   "outputs": [
    {
     "name": "stdout",
     "output_type": "stream",
     "text": [
      "Found 731 images belonging to 5 classes.\n"
     ]
    }
   ],
   "source": [
    "validation_generator = train_datagen.flow_from_directory(\n",
    "    os.path.join(base_dir, 'filtered_images'),\n",
    "    target_size=img_size,\n",
    "    batch_size=batch_size,\n",
    "    class_mode='categorical',\n",
    "    subset='validation'  # Use validation subset for validation data\n",
    ")"
   ]
  },
  {
   "cell_type": "code",
   "execution_count": 8,
   "metadata": {},
   "outputs": [],
   "source": [
    "# Model architecture\n",
    "model = Sequential([\n",
    "    Conv2D(32, (3, 3), activation='relu', input_shape=(img_size[0], img_size[1], 3)),\n",
    "    MaxPooling2D((2, 2)),\n",
    "    Conv2D(64, (3, 3), activation='relu'),\n",
    "    MaxPooling2D((2, 2)),\n",
    "    Conv2D(128, (3, 3), activation='relu'),\n",
    "    MaxPooling2D((2, 2)),\n",
    "    Flatten(),\n",
    "    Dense(128, activation='relu'),\n",
    "    Dense(5, activation='softmax')  # 5 classes: No_DR, Mild, Moderate, Severe, Proliferate_DR\n",
    "])"
   ]
  },
  {
   "cell_type": "code",
   "execution_count": 9,
   "metadata": {},
   "outputs": [],
   "source": [
    "# Model compilation\n",
    "model.compile(optimizer='adam',\n",
    "              loss='categorical_crossentropy',\n",
    "              metrics=['accuracy'])"
   ]
  },
  {
   "cell_type": "code",
   "execution_count": 10,
   "metadata": {},
   "outputs": [
    {
     "name": "stdout",
     "output_type": "stream",
     "text": [
      "Epoch 1/12\n",
      "91/91 [==============================] - 176s 2s/step - loss: 1.1924 - accuracy: 0.5502 - val_loss: 1.0412 - val_accuracy: 0.5994\n",
      "Epoch 2/12\n",
      "91/91 [==============================] - 169s 2s/step - loss: 1.0301 - accuracy: 0.6357 - val_loss: 1.0292 - val_accuracy: 0.6151\n",
      "Epoch 3/12\n",
      "91/91 [==============================] - 169s 2s/step - loss: 1.0030 - accuracy: 0.6364 - val_loss: 1.0032 - val_accuracy: 0.6122\n",
      "Epoch 4/12\n",
      "91/91 [==============================] - 182s 2s/step - loss: 0.9609 - accuracy: 0.6551 - val_loss: 0.9815 - val_accuracy: 0.6392\n",
      "Epoch 5/12\n",
      "91/91 [==============================] - 175s 2s/step - loss: 0.9367 - accuracy: 0.6675 - val_loss: 0.9584 - val_accuracy: 0.6506\n",
      "Epoch 6/12\n",
      "91/91 [==============================] - 229s 3s/step - loss: 0.9456 - accuracy: 0.6661 - val_loss: 0.9047 - val_accuracy: 0.6676\n",
      "Epoch 7/12\n",
      "91/91 [==============================] - 312s 3s/step - loss: 0.9275 - accuracy: 0.6616 - val_loss: 0.9121 - val_accuracy: 0.6619\n",
      "Epoch 8/12\n",
      "91/91 [==============================] - 176s 2s/step - loss: 0.9013 - accuracy: 0.6826 - val_loss: 0.9216 - val_accuracy: 0.6449\n",
      "Epoch 9/12\n",
      "91/91 [==============================] - 393s 4s/step - loss: 0.8939 - accuracy: 0.6778 - val_loss: 0.9712 - val_accuracy: 0.6278\n"
     ]
    }
   ],
   "source": [
    "\n",
    "# Define early stopping callback\n",
    "#early_stopping = EarlyStopping(monitor='val_loss', patience=3)\n",
    "\n",
    "# Model training with early stopping\n",
    "\"\"\" history = model.fit(\n",
    "    train_generator,\n",
    "    steps_per_epoch=train_generator.samples // batch_size,\n",
    "    epochs=12,\n",
    "    validation_data=validation_generator,\n",
    "    validation_steps=validation_generator.samples // batch_size,\n",
    "    callbacks=[early_stopping]  # Pass the early stopping callback\n",
    ") \"\"\""
   ]
  },
  {
   "cell_type": "code",
   "execution_count": 11,
   "metadata": {},
   "outputs": [
    {
     "name": "stdout",
     "output_type": "stream",
     "text": [
      "23/23 - 16s - loss: 0.9600 - accuracy: 0.6334 - 16s/epoch - 695ms/step\n",
      "\n",
      "Test accuracy: 0.6333789229393005\n"
     ]
    }
   ],
   "source": [
    "# Evaluate the model\n",
    "test_loss, test_acc = model.evaluate(validation_generator, verbose=2)\n",
    "print('\\nTest accuracy:', test_acc)"
   ]
  },
  {
   "cell_type": "code",
   "execution_count": 24,
   "metadata": {},
   "outputs": [],
   "source": [
    "# Save the model\n",
    "#model.save('model.h5')\n"
   ]
  },
  {
   "cell_type": "code",
   "execution_count": 22,
   "metadata": {},
   "outputs": [
    {
     "name": "stdout",
     "output_type": "stream",
     "text": [
      "1/1 [==============================] - 0s 40ms/step\n",
      "Predicted class label: No_DR\n"
     ]
    }
   ],
   "source": [
    "import numpy as np\n",
    "from tensorflow.keras.preprocessing import image\n",
    "\n",
    "# Load the image\n",
    "img_path = 'filtered_images/No_DR/0a4e1a29ffff.png'\n",
    "img = image.load_img(img_path, target_size=(224, 224))  # Load the image and resize it to match the input size used during training\n",
    "\n",
    "# Convert the image to a numpy array\n",
    "img_array = image.img_to_array(img)\n",
    "\n",
    "# Expand the dimensions of the image to match the input shape expected by the model\n",
    "img_array = np.expand_dims(img_array, axis=0)\n",
    "\n",
    "# Preprocess the image (normalize pixel values)\n",
    "img_array /= 255.0\n",
    "\n",
    "# Make predictions using the model\n",
    "predictions = model.predict(img_array)\n",
    "\n",
    "# Interpret the predictions\n",
    "class_labels = [ 'Mild', 'Moderate', 'No_DR',  'Proliferate_DR' ,'Severe']\n",
    "predicted_class_index = np.argmax(predictions)\n",
    "predicted_class_label = class_labels[predicted_class_index]\n",
    "\n",
    "print(\"Predicted class label:\", predicted_class_label)\n"
   ]
  },
  {
   "cell_type": "code",
   "execution_count": 23,
   "metadata": {},
   "outputs": [
    {
     "name": "stdout",
     "output_type": "stream",
     "text": [
      "1/1 [==============================] - 0s 39ms/step\n",
      "Predicted class label: No_DR\n"
     ]
    }
   ],
   "source": [
    "import numpy as np\n",
    "from tensorflow.keras.preprocessing import image\n",
    "\n",
    "# Load the image\n",
    "img_path = 'test2.jpg'\n",
    "img = image.load_img(img_path, target_size=(224, 224))  # Load the image and resize it to match the input size used during training\n",
    "\n",
    "# Convert the image to a numpy array\n",
    "img_array = image.img_to_array(img)\n",
    "\n",
    "# Expand the dimensions of the image to match the input shape expected by the model\n",
    "img_array = np.expand_dims(img_array, axis=0)\n",
    "\n",
    "# Preprocess the image (normalize pixel values)\n",
    "img_array /= 255.0\n",
    "\n",
    "# Make predictions using the model\n",
    "predictions = model.predict(img_array)\n",
    "\n",
    "# Interpret the predictions\n",
    "class_labels = [ 'Mild', 'Moderate', 'No_DR',  'Proliferate_DR' ,'Severe']\n",
    "predicted_class_index = np.argmax(predictions)\n",
    "predicted_class_label = class_labels[predicted_class_index]\n",
    "\n",
    "print(\"Predicted class label:\", predicted_class_label)\n"
   ]
  }
 ],
 "metadata": {
  "kernelspec": {
   "display_name": "base",
   "language": "python",
   "name": "python3"
  },
  "language_info": {
   "codemirror_mode": {
    "name": "ipython",
    "version": 3
   },
   "file_extension": ".py",
   "mimetype": "text/x-python",
   "name": "python",
   "nbconvert_exporter": "python",
   "pygments_lexer": "ipython3",
   "version": "3.9.13"
  }
 },
 "nbformat": 4,
 "nbformat_minor": 2
}
